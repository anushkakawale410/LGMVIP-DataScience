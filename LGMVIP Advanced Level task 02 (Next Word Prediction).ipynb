{
 "cells": [
  {
   "cell_type": "markdown",
   "id": "0d819aab",
   "metadata": {},
   "source": [
    "# Anushka Kawale\n",
    "## LGMVIP January,2022\n",
    "## Advance Task 02\n",
    "## Next Word Prediction"
   ]
  },
  {
   "cell_type": "code",
   "execution_count": 1,
   "id": "996b868f",
   "metadata": {},
   "outputs": [],
   "source": [
    "#Importing the data\n",
    "import numpy as np\n",
    "np.random.seed(42)\n",
    "import tensorflow as tf\n",
    "tf.random.set_seed(42)\n",
    " \n",
    "from tensorflow.keras.models import Sequential, load_model\n",
    "from tensorflow.keras.layers import Dense, Activation\n",
    "from tensorflow.keras.layers import LSTM, Dropout\n",
    "from tensorflow.keras.layers import TimeDistributed\n",
    "from tensorflow.keras.layers import Dense, Activation, Dropout, RepeatVector\n",
    "from tensorflow.keras.optimizers import  RMSprop\n",
    "import matplotlib.pyplot as plt\n",
    "import pickle\n",
    "import heapq"
   ]
  },
  {
   "cell_type": "code",
   "execution_count": 2,
   "id": "a190c88a",
   "metadata": {},
   "outputs": [
    {
     "name": "stdout",
     "output_type": "stream",
     "text": [
      "corpus length: 581887\n"
     ]
    }
   ],
   "source": [
    "#Load the data \n",
    "path = \"E:\\\\internship task\\\\1661-0.txt\"\n",
    "text = open(path,encoding = \"utf8\").read().lower()\n",
    "print('corpus length:', len(text))"
   ]
  },
  {
   "cell_type": "code",
   "execution_count": 3,
   "id": "c9e92a06",
   "metadata": {},
   "outputs": [
    {
     "name": "stdout",
     "output_type": "stream",
     "text": [
      "unique chars: 72\n"
     ]
    }
   ],
   "source": [
    "#Processing the data \n",
    "character = sorted(list(set(text)))\n",
    "char_indices = dict((c, i) for i, c in enumerate(character))\n",
    "indices_char = dict((i, c) for i, c in enumerate(character))\n",
    " \n",
    "print(f'unique chars: {len(character)}')\n"
   ]
  },
  {
   "cell_type": "code",
   "execution_count": 4,
   "id": "5c3447c1",
   "metadata": {},
   "outputs": [
    {
     "name": "stdout",
     "output_type": "stream",
     "text": [
      "num training examples: 193949\n"
     ]
    }
   ],
   "source": [
    "#chunk 40 characters with 3 sequences\n",
    "seq_len = 40\n",
    "step = 3\n",
    "sentences = []\n",
    "next_chars = []\n",
    "for i in range(0, len(text) - seq_len, step):\n",
    "    sentences.append(text[i: i + seq_len ])\n",
    "    next_chars.append(text[i + seq_len])\n",
    "print(f'num training examples: {len(sentences)}')"
   ]
  },
  {
   "cell_type": "code",
   "execution_count": 5,
   "id": "d9d236aa",
   "metadata": {},
   "outputs": [],
   "source": [
    "#generatinf features and labels\n",
    "X = np.zeros((len(sentences), seq_len, len(character)), dtype=np.bool_)\n",
    "y = np.zeros((len(sentences), len(character)), dtype=np.bool_)\n",
    "for i, sentence in enumerate(sentences):\n",
    "    for t, char in enumerate(sentence):\n",
    "        X[i, t, char_indices[char]] = 1\n",
    "    y[i, char_indices[next_chars[i]]] = 1"
   ]
  },
  {
   "cell_type": "code",
   "execution_count": 6,
   "id": "274182b2",
   "metadata": {},
   "outputs": [
    {
     "data": {
      "text/plain": [
       "'author: arthur conan doyle\\n\\nrelease date'"
      ]
     },
     "execution_count": 6,
     "metadata": {},
     "output_type": "execute_result"
    }
   ],
   "source": [
    "sentences[124]"
   ]
  },
  {
   "cell_type": "code",
   "execution_count": 7,
   "id": "5a6b2cff",
   "metadata": {},
   "outputs": [
    {
     "data": {
      "text/plain": [
       "' '"
      ]
     },
     "execution_count": 7,
     "metadata": {},
     "output_type": "execute_result"
    }
   ],
   "source": [
    "next_chars[100]"
   ]
  },
  {
   "cell_type": "code",
   "execution_count": 8,
   "id": "3bee4686",
   "metadata": {},
   "outputs": [
    {
     "data": {
      "text/plain": [
       "array([ True, False, False, False, False, False, False, False, False,\n",
       "       False, False, False, False, False, False, False, False, False,\n",
       "       False, False, False, False, False, False, False, False, False,\n",
       "       False, False, False, False, False, False, False, False, False,\n",
       "       False, False, False, False, False, False, False, False, False,\n",
       "       False, False, False, False, False, False, False, False, False,\n",
       "       False, False, False, False, False, False, False, False, False,\n",
       "       False, False, False, False, False, False, False, False, False])"
      ]
     },
     "execution_count": 8,
     "metadata": {},
     "output_type": "execute_result"
    }
   ],
   "source": [
    "X[0][0]"
   ]
  },
  {
   "cell_type": "code",
   "execution_count": 9,
   "id": "b40eba7a",
   "metadata": {},
   "outputs": [
    {
     "data": {
      "text/plain": [
       "array([False, False, False, False, False, False, False, False, False,\n",
       "       False, False, False, False, False, False, False, False, False,\n",
       "       False, False, False, False, False, False, False, False, False,\n",
       "       False, False, False, False, False, False, False, False, False,\n",
       "       False, False, False, False,  True, False, False, False, False,\n",
       "       False, False, False, False, False, False, False, False, False,\n",
       "       False, False, False, False, False, False, False, False, False,\n",
       "       False, False, False, False, False, False, False, False, False])"
      ]
     },
     "execution_count": 9,
     "metadata": {},
     "output_type": "execute_result"
    }
   ],
   "source": [
    "y[0]"
   ]
  },
  {
   "cell_type": "code",
   "execution_count": 10,
   "id": "5d059875",
   "metadata": {},
   "outputs": [
    {
     "data": {
      "text/plain": [
       "(193949, 40, 72)"
      ]
     },
     "execution_count": 10,
     "metadata": {},
     "output_type": "execute_result"
    }
   ],
   "source": [
    "X.shape"
   ]
  },
  {
   "cell_type": "code",
   "execution_count": 11,
   "id": "d71f888a",
   "metadata": {},
   "outputs": [
    {
     "data": {
      "text/plain": [
       "(193949, 72)"
      ]
     },
     "execution_count": 11,
     "metadata": {},
     "output_type": "execute_result"
    }
   ],
   "source": [
    "y.shape"
   ]
  },
  {
   "cell_type": "code",
   "execution_count": 12,
   "id": "29794400",
   "metadata": {},
   "outputs": [
    {
     "name": "stdout",
     "output_type": "stream",
     "text": [
      "Model: \"sequential\"\n",
      "_________________________________________________________________\n",
      " Layer (type)                Output Shape              Param #   \n",
      "=================================================================\n",
      " lstm (LSTM)                 (None, 128)               102912    \n",
      "                                                                 \n",
      " dense (Dense)               (None, 72)                9288      \n",
      "                                                                 \n",
      " activation (Activation)     (None, 72)                0         \n",
      "                                                                 \n",
      "=================================================================\n",
      "Total params: 112,200\n",
      "Trainable params: 112,200\n",
      "Non-trainable params: 0\n",
      "_________________________________________________________________\n"
     ]
    }
   ],
   "source": [
    "#creation of the model\n",
    "model = Sequential()\n",
    "model.add(LSTM(128, input_shape=(seq_len, len(character))))\n",
    "model.add(Dense(len(character)))\n",
    "model.add(Activation('softmax'))\n",
    "model.summary()"
   ]
  },
  {
   "cell_type": "code",
   "execution_count": 15,
   "id": "b5a06400",
   "metadata": {},
   "outputs": [
    {
     "name": "stdout",
     "output_type": "stream",
     "text": [
      "Epoch 1/30\n",
      "1501/1501 [==============================] - 94s 60ms/step - loss: 1.9543 - accuracy: 0.4257 - val_loss: 2.1616 - val_accuracy: 0.4046\n",
      "Epoch 2/30\n",
      "1501/1501 [==============================] - 89s 59ms/step - loss: 1.6164 - accuracy: 0.5160 - val_loss: 2.0454 - val_accuracy: 0.4582\n",
      "Epoch 3/30\n",
      "1501/1501 [==============================] - 89s 59ms/step - loss: 1.5226 - accuracy: 0.5428 - val_loss: 1.9943 - val_accuracy: 0.4649\n",
      "Epoch 4/30\n",
      "1501/1501 [==============================] - 88s 58ms/step - loss: 1.4707 - accuracy: 0.5566 - val_loss: 1.9732 - val_accuracy: 0.4742\n",
      "Epoch 5/30\n",
      "1501/1501 [==============================] - 87s 58ms/step - loss: 1.4369 - accuracy: 0.5663 - val_loss: 1.9985 - val_accuracy: 0.4825\n",
      "Epoch 6/30\n",
      "1501/1501 [==============================] - 87s 58ms/step - loss: 1.4126 - accuracy: 0.5719 - val_loss: 2.0008 - val_accuracy: 0.4711\n",
      "Epoch 7/30\n",
      "1501/1501 [==============================] - 87s 58ms/step - loss: 1.3941 - accuracy: 0.5769 - val_loss: 1.9896 - val_accuracy: 0.4887\n",
      "Epoch 8/30\n",
      "1501/1501 [==============================] - 86s 57ms/step - loss: 1.3789 - accuracy: 0.5807 - val_loss: 1.9642 - val_accuracy: 0.4938\n",
      "Epoch 9/30\n",
      "1501/1501 [==============================] - 90s 60ms/step - loss: 1.3668 - accuracy: 0.5834 - val_loss: 1.9745 - val_accuracy: 0.4840\n",
      "Epoch 10/30\n",
      "1501/1501 [==============================] - 129s 86ms/step - loss: 1.3560 - accuracy: 0.5866 - val_loss: 1.9560 - val_accuracy: 0.4928\n",
      "Epoch 11/30\n",
      "1501/1501 [==============================] - 114s 76ms/step - loss: 1.3470 - accuracy: 0.5892 - val_loss: 1.9918 - val_accuracy: 0.4851\n",
      "Epoch 12/30\n",
      "1501/1501 [==============================] - 104s 69ms/step - loss: 1.3390 - accuracy: 0.5910 - val_loss: 1.9884 - val_accuracy: 0.4845\n",
      "Epoch 13/30\n",
      "1501/1501 [==============================] - 109s 72ms/step - loss: 1.3329 - accuracy: 0.5924 - val_loss: 2.0059 - val_accuracy: 0.4814\n",
      "Epoch 14/30\n",
      "1501/1501 [==============================] - 113s 76ms/step - loss: 1.3255 - accuracy: 0.5936 - val_loss: 2.0371 - val_accuracy: 0.4892\n",
      "Epoch 15/30\n",
      "1501/1501 [==============================] - 64s 43ms/step - loss: 1.3205 - accuracy: 0.5956 - val_loss: 2.0229 - val_accuracy: 0.4778\n",
      "Epoch 16/30\n",
      "1501/1501 [==============================] - 63s 42ms/step - loss: 1.3157 - accuracy: 0.5972 - val_loss: 2.0358 - val_accuracy: 0.4835\n",
      "Epoch 17/30\n",
      "1501/1501 [==============================] - 87s 58ms/step - loss: 1.3106 - accuracy: 0.5983 - val_loss: 1.9998 - val_accuracy: 0.4979\n",
      "Epoch 18/30\n",
      "1501/1501 [==============================] - 59s 40ms/step - loss: 1.3052 - accuracy: 0.5992 - val_loss: 2.0133 - val_accuracy: 0.4876\n",
      "Epoch 19/30\n",
      "1501/1501 [==============================] - 60s 40ms/step - loss: 1.3002 - accuracy: 0.6012 - val_loss: 2.0492 - val_accuracy: 0.4691\n",
      "Epoch 20/30\n",
      "1501/1501 [==============================] - 61s 41ms/step - loss: 1.2987 - accuracy: 0.6009 - val_loss: 2.0344 - val_accuracy: 0.5000\n",
      "Epoch 21/30\n",
      "1501/1501 [==============================] - 61s 40ms/step - loss: 1.2953 - accuracy: 0.6009 - val_loss: 2.0209 - val_accuracy: 0.4985\n",
      "Epoch 22/30\n",
      "1501/1501 [==============================] - 63s 42ms/step - loss: 1.2907 - accuracy: 0.6028 - val_loss: 2.0498 - val_accuracy: 0.4974\n",
      "Epoch 23/30\n",
      "1501/1501 [==============================] - 59s 39ms/step - loss: 1.2872 - accuracy: 0.6042 - val_loss: 2.0915 - val_accuracy: 0.4861\n",
      "Epoch 24/30\n",
      "1501/1501 [==============================] - 58s 38ms/step - loss: 1.2828 - accuracy: 0.6051 - val_loss: 2.0480 - val_accuracy: 0.4990\n",
      "Epoch 25/30\n",
      "1501/1501 [==============================] - 58s 39ms/step - loss: 1.2808 - accuracy: 0.6061 - val_loss: 2.0599 - val_accuracy: 0.4974\n",
      "Epoch 26/30\n",
      "1501/1501 [==============================] - 58s 39ms/step - loss: 1.2770 - accuracy: 0.6071 - val_loss: 2.1034 - val_accuracy: 0.4861\n",
      "Epoch 27/30\n",
      "1501/1501 [==============================] - 63s 42ms/step - loss: 1.2749 - accuracy: 0.6074 - val_loss: 2.0680 - val_accuracy: 0.4995\n",
      "Epoch 28/30\n",
      "1501/1501 [==============================] - 73s 49ms/step - loss: 1.2711 - accuracy: 0.6080 - val_loss: 2.1418 - val_accuracy: 0.4851\n",
      "Epoch 29/30\n",
      "1501/1501 [==============================] - 79s 53ms/step - loss: 1.2703 - accuracy: 0.6082 - val_loss: 2.1004 - val_accuracy: 0.4985\n",
      "Epoch 30/30\n",
      "1501/1501 [==============================] - 56s 37ms/step - loss: 1.2688 - accuracy: 0.6081 - val_loss: 2.0470 - val_accuracy: 0.5041\n"
     ]
    }
   ],
   "source": [
    "#Training Our model\n",
    "optimizer = RMSprop(learning_rate=0.01)\n",
    "model.compile(loss='categorical_crossentropy', optimizer=optimizer, metrics=['accuracy'])\n",
    "history = model.fit(X, y,\n",
    "                    validation_split=0.01, \n",
    "                    batch_size=128,\n",
    "                    epochs=30, \n",
    "                    shuffle=True).history"
   ]
  },
  {
   "cell_type": "code",
   "execution_count": 16,
   "id": "3f501e91",
   "metadata": {},
   "outputs": [],
   "source": [
    "#saving our model\n",
    "model.save('keras_model.h5')\n",
    "pickle.dump(history, open(\"history.p\", \"wb\"))"
   ]
  },
  {
   "cell_type": "code",
   "execution_count": 17,
   "id": "5856d178",
   "metadata": {},
   "outputs": [],
   "source": [
    "#loading our model\n",
    "model = load_model('keras_model.h5')\n",
    "history = pickle.load(open(\"history.p\", \"rb\"))"
   ]
  },
  {
   "cell_type": "code",
   "execution_count": 18,
   "id": "3238e55a",
   "metadata": {},
   "outputs": [
    {
     "name": "stdout",
     "output_type": "stream",
     "text": [
      "6061/6061 [==============================] - 42s 7ms/step - loss: 1.2301 - accuracy: 0.6203\n",
      "Test Loss 1.2301315069198608\n",
      "Test Accuracy 0.6203228831291199\n"
     ]
    }
   ],
   "source": [
    "#Model Evaluation\n",
    "loss_and_acc=model.evaluate(X,y)\n",
    "print(\"Test Loss\", loss_and_acc[0])\n",
    "print(\"Test Accuracy\", loss_and_acc[1])"
   ]
  },
  {
   "cell_type": "code",
   "execution_count": 19,
   "id": "d8c81ef2",
   "metadata": {},
   "outputs": [
    {
     "data": {
      "image/png": "[encoded data removed]",
      "text/plain": [
       "<Figure size 1440x432 with 2 Axes>"
      ]
     },
     "metadata": {
      "needs_background": "light"
     },
     "output_type": "display_data"
    }
   ],
   "source": [
    "acc = history['accuracy']\n",
    "val_acc = history['val_accuracy']\n",
    "loss = history['loss']\n",
    "val_loss = history['val_loss']\n",
    "epochs = range(len(acc))\n",
    "\n",
    "fig, ax = plt.subplots(nrows=1, ncols=2, figsize=(20, 6))\n",
    "ax[0].plot(epochs, acc, 'r', label='Training accuracy')\n",
    "ax[0].plot(epochs, val_acc, 'b', label='Validation accuracy')\n",
    "ax[0].legend(loc=0)\n",
    "ax[1].plot(epochs, loss, 'r', label='Training loss')\n",
    "ax[1].plot(epochs, val_loss, 'b', label='Validation loss')\n",
    "ax[1].legend(loc=0)\n",
    "\n",
    "plt.suptitle('Training and validation')\n",
    "plt.show()"
   ]
  },
  {
   "cell_type": "code",
   "execution_count": 20,
   "id": "6af60c51",
   "metadata": {},
   "outputs": [
    {
     "data": {
      "text/plain": [
       "array([[[0., 0., 0., ..., 0., 0., 0.],\n",
       "        [0., 0., 0., ..., 0., 0., 0.],\n",
       "        [0., 0., 0., ..., 0., 0., 0.],\n",
       "        ...,\n",
       "        [0., 0., 0., ..., 0., 0., 0.],\n",
       "        [0., 0., 0., ..., 0., 0., 0.],\n",
       "        [0., 0., 0., ..., 0., 0., 0.]]])"
      ]
     },
     "execution_count": 20,
     "metadata": {},
     "output_type": "execute_result"
    }
   ],
   "source": [
    "def prepare_input(text):\n",
    "    x = np.zeros((1, seq_len, len(character)))\n",
    "    for t, char in enumerate(text):\n",
    "        x[0, t, char_indices[char]] = 1.\n",
    "        \n",
    "    return x\n",
    "prepare_input(\"This is an example of input of our model\".lower())"
   ]
  },
  {
   "cell_type": "code",
   "execution_count": 21,
   "id": "4b71f81c",
   "metadata": {},
   "outputs": [],
   "source": [
    "def sample(preds, top_n=3):\n",
    "    preds = np.asarray(preds).astype('float64')\n",
    "    preds = np.log(preds)\n",
    "    exp_preds = np.exp(preds)\n",
    "    preds = exp_preds / np.sum(exp_preds)\n",
    "    \n",
    "    return heapq.nlargest(top_n, range(len(preds)), preds.take)"
   ]
  },
  {
   "cell_type": "code",
   "execution_count": 22,
   "id": "5f29b0ef",
   "metadata": {},
   "outputs": [],
   "source": [
    "def predict_completion(text):\n",
    "    original_text = text\n",
    "    generated = text\n",
    "    completion = ''\n",
    "    while True:\n",
    "        x = prepare_input(text)\n",
    "        preds = model.predict(x, verbose=0)[0]\n",
    "        next_index = sample(preds, top_n=1)[0]\n",
    "        next_char = indices_char[next_index]\n",
    "        text = text[1:] + next_char\n",
    "        completion += next_char\n",
    "        \n",
    "        if len(original_text + completion) + 2 > len(original_text) and next_char == ' ':\n",
    "            return completion"
   ]
  },
  {
   "cell_type": "code",
   "execution_count": 23,
   "id": "199d4ef9",
   "metadata": {},
   "outputs": [],
   "source": [
    "def predict_completions(text, n=3):\n",
    "    x = prepare_input(text)\n",
    "    preds = model.predict(x, verbose=0)[0]\n",
    "    next_indices = sample(preds, n)\n",
    "    return [indices_char[idx] + predict_completion(text[1:] + indices_char[idx]) for idx in next_indices]"
   ]
  },
  {
   "cell_type": "code",
   "execution_count": 24,
   "id": "a6211281",
   "metadata": {},
   "outputs": [],
   "source": [
    "#Prediction \n",
    "sentences = [\"Ryder passed his tongue over his parched lips. “I will tell you it just as it happened, sir, said he. “When Horner had been arrested, it seemed to me that it would be best for me to get away with the stone at once, for I did not know at what moment the police might not take it\",\n",
    "\"into their heads to search me and my room. There was no place about the hotel where it would be safe. I went out, as if on some commission, and I made for my sister’s house. She had married a man named Oakshott, and lived in Brixton Road, where she fattened fowls for the market. All the\",\n",
    "\"way there every man I met seemed to me to be a policeman or a detective; and, for all that it was a cold night, the sweat was pouring down my face before I came to the Brixton Road. My sister asked me what was the matter, and why I was so pale; but I told her that I had been\",\n",
    "\"upset by the jewel robbery at the hotel. Then I went into the back yard and smoked a pipe and wondered what it would be best to do.\"]"
   ]
  },
  {
   "cell_type": "code",
   "execution_count": 25,
   "id": "3a45733d",
   "metadata": {},
   "outputs": [
    {
     "name": "stdout",
     "output_type": "stream",
     "text": [
      "ryder passed his tongue over his parched\n",
      "[' and ', ', ', '\\nin ', '. ', 'ly ']\n",
      "\n",
      "into their heads to search me and my roo\n",
      "['m ', 's ', 'f ', 'n ', 'r, ']\n",
      "\n",
      "way there every man i met seemed to me t\n",
      "['o ', 'hat ', 'ranging ', 'en ', 'urning ']\n",
      "\n",
      "upset by the jewel robbery at the hotel.\n",
      "[' i ', '\\n\\n“it ', '”\\n\\n“i ', '’\\n\\n“‘i ', 'mbach ']\n",
      "\n"
     ]
    }
   ],
   "source": [
    "for s in sentences:\n",
    "    seq = s[:40].lower()\n",
    "    print(seq)\n",
    "    print(predict_completions(seq, 5))\n",
    "    print()\n",
    "    "
   ]
  }
 ],
 "metadata": {
  "kernelspec": {
   "display_name": "Python 3 (ipykernel)",
   "language": "python",
   "name": "python3"
  },
  "language_info": {
   "codemirror_mode": {
    "name": "ipython",
    "version": 3
   },
   "file_extension": ".py",
   "mimetype": "text/x-python",
   "name": "python",
   "nbconvert_exporter": "python",
   "pygments_lexer": "ipython3",
   "version": "3.9.7"
  }
 },
 "nbformat": 4,
 "nbformat_minor": 5
}
